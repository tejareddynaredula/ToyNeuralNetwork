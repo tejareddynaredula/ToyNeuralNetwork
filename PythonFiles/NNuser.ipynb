{
 "cells": [
  {
   "cell_type": "code",
   "execution_count": 3,
   "metadata": {},
   "outputs": [
    {
     "name": "stdout",
     "output_type": "stream",
     "text": [
      "NeuralNet created:  layers: 4\n",
      "0  Error Percentage:  100\n",
      "1000  Error Percentage:  20.32024903871755\n",
      "2000  Error Percentage:  12.64828998171303\n",
      "3000  Error Percentage:  9.315007984580346\n",
      "4000  Error Percentage:  7.573477721463945\n",
      "5000  Error Percentage:  6.49812424863512\n",
      "6000  Error Percentage:  5.762309884650847\n",
      "7000  Error Percentage:  5.226773332089009\n",
      "8000  Error Percentage:  4.819499694145282\n",
      "9000  Error Percentage:  4.499105763023768\n"
     ]
    }
   ],
   "source": [
    "from NeuralNet import *\n",
    "\n",
    "\n",
    "\n",
    "\"\"\"\n",
    "nn = NeuralNet([2,3, 1])\n",
    "print (nn)\n",
    "i=0\n",
    "while i<40000:\n",
    "    if i%10000==0:\n",
    "        nn.debug=True\n",
    "        nn.data_index=i\n",
    "    nn.train([0,0],[0],1)\n",
    "    nn.train([0,1],[1],1)\n",
    "    nn.train([1,0],[1],1)\n",
    "    nn.train([1,1],[0],1)\n",
    "    if i%10000==0:\n",
    "        nn.debug=False\n",
    "    i = i+1\n",
    "\n",
    "\"\"\"\n",
    "\n",
    "nn = NeuralNet([4,3,5,1])\n",
    "data = pd.read_csv(\"../data/iris_training.csv\")\n",
    "#print (data)\n",
    "sepallength = data.SepalLength.values.tolist()\n",
    "sepalwidth = data.SepalWidth.values.tolist()\n",
    "petallength = data.PetalLength.values.tolist()\n",
    "petalwidth = data.PetalWidth.values.tolist()\n",
    "types = data.types.values.tolist()\n",
    "\n",
    "datalen = len(sepallength)\n",
    "\n",
    "iteration=0\n",
    "while iteration< 10000 :\n",
    "    i=0\n",
    "    if iteration%1000 == 0:\n",
    "        #nn.debug=True\n",
    "        #nn.data_index=iteration\n",
    "        print(iteration,\" Error Percentage: \",nn.error_percentage)\n",
    "    while i< datalen :\n",
    "        if types[i] == 2:\n",
    "            types[i] = 0.5\n",
    "        nn.train([sepallength[i],sepalwidth[i],petallength[i],petalwidth[i]],[types[i]],1)\n",
    "        i=i+1\n",
    "    if iteration%10000 == 0:\n",
    "        nn.debug=False\n",
    "    iteration=iteration+1\n",
    "\n"
   ]
  },
  {
   "cell_type": "code",
   "execution_count": 8,
   "metadata": {},
   "outputs": [
    {
     "name": "stdout",
     "output_type": "stream",
     "text": [
      "[[-1.24776869  1.37263541  2.37068009 -0.99882741]\n",
      " [ 1.61793585  0.65462769 -0.84461381 -4.01201099]]\n"
     ]
    }
   ],
   "source": [
    "print (np.random.randn(2, 4)*2)"
   ]
  },
  {
   "cell_type": "code",
   "execution_count": null,
   "metadata": {},
   "outputs": [],
   "source": []
  },
  {
   "cell_type": "code",
   "execution_count": null,
   "metadata": {},
   "outputs": [],
   "source": []
  }
 ],
 "metadata": {
  "kernelspec": {
   "display_name": "Python 3",
   "language": "python",
   "name": "python3"
  },
  "language_info": {
   "codemirror_mode": {
    "name": "ipython",
    "version": 3
   },
   "file_extension": ".py",
   "mimetype": "text/x-python",
   "name": "python",
   "nbconvert_exporter": "python",
   "pygments_lexer": "ipython3",
   "version": "3.5.2"
  }
 },
 "nbformat": 4,
 "nbformat_minor": 2
}
