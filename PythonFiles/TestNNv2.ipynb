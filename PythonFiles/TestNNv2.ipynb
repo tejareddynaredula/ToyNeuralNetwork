{
 "cells": [
  {
   "cell_type": "code",
   "execution_count": 1,
   "metadata": {},
   "outputs": [
    {
     "name": "stdout",
     "output_type": "stream",
     "text": [
      "matrix : <class 'array.array'> array('d', [0.40605614384291944, 0.5363606254539092, 0.6196951663555604, 0.5049149167082477, 0.10863611253696437, 0.6971075011060387])\n",
      "ij:  0  i= 0  j= 0\n",
      "ij:  1  i= 0  j= 1\n",
      "ij:  2  i= 1  j= 0\n",
      "ij:  3  i= 1  j= 1\n"
     ]
    }
   ],
   "source": [
    "from NeuralNetV2 import *\n",
    "\n",
    "\n",
    "m = Matrix(2, 3 ,None)\n",
    "print(\"matrix :\",type(m.mat),m.mat)\n",
    "n = Matrix( 3 ,2 ,None)\n",
    "\n",
    "mn = Matrix( 2 ,2 ,None)\n",
    "\n",
    "mn.multiply(m,n)\n"
   ]
  },
  {
   "cell_type": "markdown",
   "metadata": {},
   "source": [
    "  \n",
    "  48004655 function calls (48004518 primitive calls) in 156.393 seconds\n",
    "  1200032    2.899    0.000    3.808    0.000 NeuralNetV2.py:11(__init__)\n",
    "        4    0.000    0.000    0.000    0.000 NeuralNetV2.py:111(__init__)\n",
    "        1    0.000    0.000    0.001    0.001 NeuralNetV2.py:129(__init__)\n",
    "  1200000    8.951    0.000   61.653    0.000 NeuralNetV2.py:149(predict)\n",
    "  1200000    0.690    0.000    0.789    0.000 NeuralNetV2.py:16(<listcomp>)\n",
    "  1200000   13.251    0.000  156.382    0.000 NeuralNetV2.py:172(train)\n",
    "       32    0.000    0.000    0.000    0.000 NeuralNetV2.py:22(<listcomp>)\n",
    "  1200000    1.379    0.000    1.379    0.000 NeuralNetV2.py:25(setCol)\n",
    " 10800000   15.368    0.000   15.368    0.000 NeuralNetV2.py:35(add)\n",
    "  3600000   20.220    0.000   20.220    0.000 NeuralNetV2.py:39(mapActivation)\n",
    "  3600000    4.503    0.000    4.503    0.000 NeuralNetV2.py:47(mapDeActivation)\n",
    "  1200000    0.832    0.000    0.832    0.000 NeuralNetV2.py:57(subtract)\n",
    "  3600000    3.047    0.000    3.047    0.000 NeuralNetV2.py:61(copy)\n",
    "  2400000    8.555    0.000    8.555    0.000 NeuralNetV2.py:65(copyTranspose)\n",
    "  3600000    3.831    0.000    3.831    0.000 NeuralNetV2.py:72(multiplyScalar)\n",
    "  6000000   38.802    0.000   38.802    0.000 NeuralNetV2.py:77(multiply)\n",
    "  3600000   33.720    0.000   33.720    0.000 NeuralNetV2.py:94(multiplyTranspose)\n",
    "    \n",
    "    ---------\n",
    "      48004895 function calls (48004758 primitive calls) in 246.060 seconds\n",
    "      1200032    2.378    0.000    4.354    0.000 NeuralNetV1.py:10(__init__)\n",
    "        4    0.000    0.000    0.000    0.000 NeuralNetV1.py:102(__init__)\n",
    "        1    0.000    0.000    0.000    0.000 NeuralNetV1.py:120(__init__)\n",
    "  1200000   10.782    0.000   93.986    0.000 NeuralNetV1.py:140(predict)\n",
    "  1200000    0.996    0.000    1.834    0.000 NeuralNetV1.py:15(<listcomp>)\n",
    "  1200000   13.817    0.000  246.774    0.000 NeuralNetV1.py:162(train)\n",
    "       95    0.000    0.000    0.000    0.000 NeuralNetV1.py:21(<listcomp>)\n",
    "  1200000    1.092    0.000    1.092    0.000 NeuralNetV1.py:28(setCol)\n",
    " 10800000   47.383    0.000   47.383    0.000 NeuralNetV1.py:38(add)\n",
    "  3600000   28.609    0.000   28.609    0.000 NeuralNetV1.py:43(mapActivation)\n",
    "  3600000    9.805    0.000    9.805    0.000 NeuralNetV1.py:52(mapDeActivation)\n",
    "  1200000    1.314    0.000    1.314    0.000 NeuralNetV1.py:63(subtract)\n",
    "  3600000    6.282    0.000    6.282    0.000 NeuralNetV1.py:67(copy)\n",
    "  2400000   12.611    0.000   12.611    0.000 NeuralNetV1.py:72(copyTranspose)\n",
    "  3600000    8.972    0.000    8.972    0.000 NeuralNetV1.py:77(multiplyScalar)\n",
    "  6000000   59.890    0.000   59.890    0.000 NeuralNetV1.py:83(multiply)\n",
    "  3600000   41.715    0.000   41.715    0.000 NeuralNetV1.py:92(multiplyTranspose)"
   ]
  },
  {
   "cell_type": "markdown",
   "metadata": {},
   "source": [
    "  1200032    3.214    0.000    6.378    0.000 NeuralNetV3.py:11(__init__)\n",
    "  3600000   52.457    0.000   52.457    0.000 NeuralNetV3.py:112(multiplyTranspose)\n",
    "        4    0.000    0.000    0.000    0.000 NeuralNetV3.py:128(__init__)\n",
    "        1    0.000    0.000    0.001    0.001 NeuralNetV3.py:146(__init__)\n",
    "  1200000    0.843    0.000    0.952    0.000 NeuralNetV3.py:16(<listcomp>)\n",
    "  1200000   11.260    0.000   93.311    0.000 NeuralNetV3.py:166(predict)\n",
    "  1200000   14.593    0.000  223.264    0.000 NeuralNetV3.py:189(train)\n",
    "       32    0.000    0.000    0.000    0.000 NeuralNetV3.py:22(<listcomp>)\n",
    "  1200000    1.502    0.000    1.502    0.000 NeuralNetV3.py:25(setCol)\n",
    " 10800000    9.392    0.000    9.392    0.000 NeuralNetV3.py:35(add)\n",
    "  3600000   28.210    0.000   28.210    0.000 NeuralNetV3.py:42(mapActivation)\n",
    "  3600000    9.325    0.000    9.325    0.000 NeuralNetV3.py:59(mapDeActivation)\n",
    "  1200000    1.196    0.000    1.196    0.000 NeuralNetV3.py:69(subtract)\n",
    "  3600000    0.950    0.000    0.950    0.000 NeuralNetV3.py:76(copy)\n",
    "  2400000   12.020    0.000   12.020    0.000 NeuralNetV3.py:83(copyTranspose)\n",
    "  3600000    7.185    0.000    7.185    0.000 NeuralNetV3.py:90(multiplyScalar)\n",
    "  6000000   68.602    0.000   68.602    0.000 NeuralNetV3.py:97(multiply)"
   ]
  }
 ],
 "metadata": {
  "kernelspec": {
   "display_name": "Python 3",
   "language": "python",
   "name": "python3"
  },
  "language_info": {
   "codemirror_mode": {
    "name": "ipython",
    "version": 3
   },
   "file_extension": ".py",
   "mimetype": "text/x-python",
   "name": "python",
   "nbconvert_exporter": "python",
   "pygments_lexer": "ipython3",
   "version": "3.5.2"
  }
 },
 "nbformat": 4,
 "nbformat_minor": 2
}
